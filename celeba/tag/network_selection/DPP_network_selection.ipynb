{
 "cells": [
  {
   "cell_type": "code",
   "execution_count": 25,
   "metadata": {},
   "outputs": [],
   "source": [
    "import cvxpy as cp\n",
    "import numpy as np\n",
    "\n",
    "def solve_Welfare_Maximization(L, k, IB_array, b1, TB_array, b2):\n",
    "    n = L.shape[0]\n",
    "    S = range(1, n + 1)  # Set of items\n",
    "\n",
    "    # Decision binary variables\n",
    "    X = cp.Variable((n, k), boolean=True)    \n",
    "    # Objective function\n",
    "    obj = 0\n",
    "    for i in range(k):\n",
    "        obj += cp.log_det(cp.diag(X[:,i]) @ L @ cp.diag(X[:,i]))\n",
    "    obj = cp.Maximize(obj)\n",
    "\n",
    "    constrains = []\n",
    "    # Assignment Constraints\n",
    "    constrains.append(cp.cumsum(X, axis=1)==1)\n",
    "\n",
    "    # Group Size Constraint\n",
    "    constrains.append(cp.cumsum(X, axis=0)>=1)\n",
    "\n",
    "    # Inference Memory Budget Constraint\n",
    "    constrains.append(IB_array.reshape(1,-1)@X<=b1)\n",
    "\n",
    "    # Training Time Budget Constraint\n",
    "    constrains.append(TB_array.reshape(1,-1)@X<=b2)\n",
    "\n",
    "    # Solve the linear program\n",
    "    prob = cp.Problem(obj, constrains)\n",
    "    prob.solve()\n",
    "    \n",
    "    # Print the results\n",
    "    print(\"The optimal value is\", prob.value)\n",
    "    print(\"A solution x is\")\n",
    "    print(X.value)\n",
    "\n",
    "    # # Print the results\n",
    "    # if sol[0] == 'optimal':\n",
    "    #     print(\"\\nOptimal Solution:\")\n",
    "    #     for j in range(1, k + 1):\n",
    "    #         group_items = [i for i in S if sol[1][i - 1 + (j - 1) * n] == 1]\n",
    "    #         print(f\"Group {j}: Items {group_items}\")\n",
    "    # else:\n",
    "    #     print(\"No optimal solution found.\")\n"
   ]
  },
  {
   "cell_type": "code",
   "execution_count": 26,
   "metadata": {},
   "outputs": [
    {
     "name": "stdout",
     "output_type": "stream",
     "text": [
      "log_det(diag_vec(reshape(var172[0:5, 0], (5,), F), 0) @ [[1.90 0.69 ... 1.99 2.06]\n",
      " [0.69 0.37 ... 0.79 0.69]\n",
      " ...\n",
      " [1.99 0.79 ... 2.56 2.29]\n",
      " [2.06 0.69 ... 2.29 2.41]] @ diag_vec(reshape(var172[0:5, 0], (5,), F), 0))\n",
      "log_det(diag_vec(reshape(var172[0:5, 1], (5,), F), 0) @ [[1.90 0.69 ... 1.99 2.06]\n",
      " [0.69 0.37 ... 0.79 0.69]\n",
      " ...\n",
      " [1.99 0.79 ... 2.56 2.29]\n",
      " [2.06 0.69 ... 2.29 2.41]] @ diag_vec(reshape(var172[0:5, 1], (5,), F), 0))\n"
     ]
    },
    {
     "ename": "DCPError",
     "evalue": "Problem does not follow DCP rules. Specifically:\nThe objective is not DCP. Its following subexpressions are not:\ndiag_vec(reshape(var172[0:5, 0], (5,), F), 0) @ [[1.90 0.69 ... 1.99 2.06]\n [0.69 0.37 ... 0.79 0.69]\n ...\n [1.99 0.79 ... 2.56 2.29]\n [2.06 0.69 ... 2.29 2.41]] @ diag_vec(reshape(var172[0:5, 0], (5,), F), 0)\ndiag_vec(reshape(var172[0:5, 1], (5,), F), 0) @ [[1.90 0.69 ... 1.99 2.06]\n [0.69 0.37 ... 0.79 0.69]\n ...\n [1.99 0.79 ... 2.56 2.29]\n [2.06 0.69 ... 2.29 2.41]] @ diag_vec(reshape(var172[0:5, 1], (5,), F), 0)",
     "output_type": "error",
     "traceback": [
      "\u001b[0;31m---------------------------------------------------------------------------\u001b[0m",
      "\u001b[0;31mDCPError\u001b[0m                                  Traceback (most recent call last)",
      "\u001b[1;32m/home/xhpan/codes/tag/network_selection/DPP_network_selection.ipynb 单元格 2\u001b[0m line \u001b[0;36m8\n\u001b[1;32m      <a href='vscode-notebook-cell://ssh-remote%2B4090/home/xhpan/codes/tag/network_selection/DPP_network_selection.ipynb#W1sdnNjb2RlLXJlbW90ZQ%3D%3D?line=5'>6</a>\u001b[0m TB_array \u001b[39m=\u001b[39m np\u001b[39m.\u001b[39marray([\u001b[39m1\u001b[39m,\u001b[39m2\u001b[39m,\u001b[39m3\u001b[39m,\u001b[39m4\u001b[39m,\u001b[39m5\u001b[39m])\n\u001b[1;32m      <a href='vscode-notebook-cell://ssh-remote%2B4090/home/xhpan/codes/tag/network_selection/DPP_network_selection.ipynb#W1sdnNjb2RlLXJlbW90ZQ%3D%3D?line=6'>7</a>\u001b[0m b2 \u001b[39m=\u001b[39m \u001b[39m10\u001b[39m\n\u001b[0;32m----> <a href='vscode-notebook-cell://ssh-remote%2B4090/home/xhpan/codes/tag/network_selection/DPP_network_selection.ipynb#W1sdnNjb2RlLXJlbW90ZQ%3D%3D?line=7'>8</a>\u001b[0m solve_Welfare_Maximization(L, k, IB_array, b1, TB_array, b2)\n",
      "\u001b[1;32m/home/xhpan/codes/tag/network_selection/DPP_network_selection.ipynb 单元格 2\u001b[0m line \u001b[0;36m3\n\u001b[1;32m     <a href='vscode-notebook-cell://ssh-remote%2B4090/home/xhpan/codes/tag/network_selection/DPP_network_selection.ipynb#W1sdnNjb2RlLXJlbW90ZQ%3D%3D?line=29'>30</a>\u001b[0m \u001b[39m# Solve the linear program\u001b[39;00m\n\u001b[1;32m     <a href='vscode-notebook-cell://ssh-remote%2B4090/home/xhpan/codes/tag/network_selection/DPP_network_selection.ipynb#W1sdnNjb2RlLXJlbW90ZQ%3D%3D?line=30'>31</a>\u001b[0m prob \u001b[39m=\u001b[39m cp\u001b[39m.\u001b[39mProblem(obj, constrains)\n\u001b[0;32m---> <a href='vscode-notebook-cell://ssh-remote%2B4090/home/xhpan/codes/tag/network_selection/DPP_network_selection.ipynb#W1sdnNjb2RlLXJlbW90ZQ%3D%3D?line=31'>32</a>\u001b[0m prob\u001b[39m.\u001b[39;49msolve()\n\u001b[1;32m     <a href='vscode-notebook-cell://ssh-remote%2B4090/home/xhpan/codes/tag/network_selection/DPP_network_selection.ipynb#W1sdnNjb2RlLXJlbW90ZQ%3D%3D?line=33'>34</a>\u001b[0m \u001b[39m# Print the results\u001b[39;00m\n\u001b[1;32m     <a href='vscode-notebook-cell://ssh-remote%2B4090/home/xhpan/codes/tag/network_selection/DPP_network_selection.ipynb#W1sdnNjb2RlLXJlbW90ZQ%3D%3D?line=34'>35</a>\u001b[0m \u001b[39mprint\u001b[39m(\u001b[39m\"\u001b[39m\u001b[39mThe optimal value is\u001b[39m\u001b[39m\"\u001b[39m, prob\u001b[39m.\u001b[39mvalue)\n",
      "File \u001b[0;32m~/miniconda3/envs/tf2/lib/python3.9/site-packages/cvxpy/problems/problem.py:503\u001b[0m, in \u001b[0;36mProblem.solve\u001b[0;34m(self, *args, **kwargs)\u001b[0m\n\u001b[1;32m    501\u001b[0m \u001b[39melse\u001b[39;00m:\n\u001b[1;32m    502\u001b[0m     solve_func \u001b[39m=\u001b[39m Problem\u001b[39m.\u001b[39m_solve\n\u001b[0;32m--> 503\u001b[0m \u001b[39mreturn\u001b[39;00m solve_func(\u001b[39mself\u001b[39;49m, \u001b[39m*\u001b[39;49margs, \u001b[39m*\u001b[39;49m\u001b[39m*\u001b[39;49mkwargs)\n",
      "File \u001b[0;32m~/miniconda3/envs/tf2/lib/python3.9/site-packages/cvxpy/problems/problem.py:1072\u001b[0m, in \u001b[0;36mProblem._solve\u001b[0;34m(self, solver, warm_start, verbose, gp, qcp, requires_grad, enforce_dpp, ignore_dpp, canon_backend, **kwargs)\u001b[0m\n\u001b[1;32m   1069\u001b[0m         \u001b[39mself\u001b[39m\u001b[39m.\u001b[39munpack(chain\u001b[39m.\u001b[39mretrieve(soln))\n\u001b[1;32m   1070\u001b[0m         \u001b[39mreturn\u001b[39;00m \u001b[39mself\u001b[39m\u001b[39m.\u001b[39mvalue\n\u001b[0;32m-> 1072\u001b[0m data, solving_chain, inverse_data \u001b[39m=\u001b[39m \u001b[39mself\u001b[39;49m\u001b[39m.\u001b[39;49mget_problem_data(\n\u001b[1;32m   1073\u001b[0m     solver, gp, enforce_dpp, ignore_dpp, verbose, canon_backend, kwargs\n\u001b[1;32m   1074\u001b[0m )\n\u001b[1;32m   1076\u001b[0m \u001b[39mif\u001b[39;00m verbose:\n\u001b[1;32m   1077\u001b[0m     \u001b[39mprint\u001b[39m(_NUM_SOLVER_STR)\n",
      "File \u001b[0;32m~/miniconda3/envs/tf2/lib/python3.9/site-packages/cvxpy/problems/problem.py:646\u001b[0m, in \u001b[0;36mProblem.get_problem_data\u001b[0;34m(self, solver, gp, enforce_dpp, ignore_dpp, verbose, canon_backend, solver_opts)\u001b[0m\n\u001b[1;32m    644\u001b[0m \u001b[39mif\u001b[39;00m key \u001b[39m!=\u001b[39m \u001b[39mself\u001b[39m\u001b[39m.\u001b[39m_cache\u001b[39m.\u001b[39mkey:\n\u001b[1;32m    645\u001b[0m     \u001b[39mself\u001b[39m\u001b[39m.\u001b[39m_cache\u001b[39m.\u001b[39minvalidate()\n\u001b[0;32m--> 646\u001b[0m     solving_chain \u001b[39m=\u001b[39m \u001b[39mself\u001b[39;49m\u001b[39m.\u001b[39;49m_construct_chain(\n\u001b[1;32m    647\u001b[0m         solver\u001b[39m=\u001b[39;49msolver, gp\u001b[39m=\u001b[39;49mgp,\n\u001b[1;32m    648\u001b[0m         enforce_dpp\u001b[39m=\u001b[39;49menforce_dpp,\n\u001b[1;32m    649\u001b[0m         ignore_dpp\u001b[39m=\u001b[39;49mignore_dpp,\n\u001b[1;32m    650\u001b[0m         canon_backend\u001b[39m=\u001b[39;49mcanon_backend,\n\u001b[1;32m    651\u001b[0m         solver_opts\u001b[39m=\u001b[39;49msolver_opts)\n\u001b[1;32m    652\u001b[0m     \u001b[39mself\u001b[39m\u001b[39m.\u001b[39m_cache\u001b[39m.\u001b[39mkey \u001b[39m=\u001b[39m key\n\u001b[1;32m    653\u001b[0m     \u001b[39mself\u001b[39m\u001b[39m.\u001b[39m_cache\u001b[39m.\u001b[39msolving_chain \u001b[39m=\u001b[39m solving_chain\n",
      "File \u001b[0;32m~/miniconda3/envs/tf2/lib/python3.9/site-packages/cvxpy/problems/problem.py:898\u001b[0m, in \u001b[0;36mProblem._construct_chain\u001b[0;34m(self, solver, gp, enforce_dpp, ignore_dpp, canon_backend, solver_opts)\u001b[0m\n\u001b[1;32m    896\u001b[0m candidate_solvers \u001b[39m=\u001b[39m \u001b[39mself\u001b[39m\u001b[39m.\u001b[39m_find_candidate_solvers(solver\u001b[39m=\u001b[39msolver, gp\u001b[39m=\u001b[39mgp)\n\u001b[1;32m    897\u001b[0m \u001b[39mself\u001b[39m\u001b[39m.\u001b[39m_sort_candidate_solvers(candidate_solvers)\n\u001b[0;32m--> 898\u001b[0m \u001b[39mreturn\u001b[39;00m construct_solving_chain(\u001b[39mself\u001b[39;49m, candidate_solvers, gp\u001b[39m=\u001b[39;49mgp,\n\u001b[1;32m    899\u001b[0m                                enforce_dpp\u001b[39m=\u001b[39;49menforce_dpp,\n\u001b[1;32m    900\u001b[0m                                ignore_dpp\u001b[39m=\u001b[39;49mignore_dpp,\n\u001b[1;32m    901\u001b[0m                                canon_backend\u001b[39m=\u001b[39;49mcanon_backend,\n\u001b[1;32m    902\u001b[0m                                solver_opts\u001b[39m=\u001b[39;49msolver_opts,\n\u001b[1;32m    903\u001b[0m                                specified_solver\u001b[39m=\u001b[39;49msolver)\n",
      "File \u001b[0;32m~/miniconda3/envs/tf2/lib/python3.9/site-packages/cvxpy/reductions/solvers/solving_chain.py:217\u001b[0m, in \u001b[0;36mconstruct_solving_chain\u001b[0;34m(problem, candidates, gp, enforce_dpp, ignore_dpp, canon_backend, solver_opts, specified_solver)\u001b[0m\n\u001b[1;32m    215\u001b[0m \u001b[39mif\u001b[39;00m \u001b[39mlen\u001b[39m(problem\u001b[39m.\u001b[39mvariables()) \u001b[39m==\u001b[39m \u001b[39m0\u001b[39m:\n\u001b[1;32m    216\u001b[0m     \u001b[39mreturn\u001b[39;00m SolvingChain(reductions\u001b[39m=\u001b[39m[ConstantSolver()])\n\u001b[0;32m--> 217\u001b[0m reductions \u001b[39m=\u001b[39m _reductions_for_problem_class(problem, candidates, gp, solver_opts)\n\u001b[1;32m    219\u001b[0m \u001b[39m# Process DPP status of the problem.\u001b[39;00m\n\u001b[1;32m    220\u001b[0m dpp_context \u001b[39m=\u001b[39m \u001b[39m'\u001b[39m\u001b[39mdcp\u001b[39m\u001b[39m'\u001b[39m \u001b[39mif\u001b[39;00m \u001b[39mnot\u001b[39;00m gp \u001b[39melse\u001b[39;00m \u001b[39m'\u001b[39m\u001b[39mdgp\u001b[39m\u001b[39m'\u001b[39m\n",
      "File \u001b[0;32m~/miniconda3/envs/tf2/lib/python3.9/site-packages/cvxpy/reductions/solvers/solving_chain.py:132\u001b[0m, in \u001b[0;36m_reductions_for_problem_class\u001b[0;34m(problem, candidates, gp, solver_opts)\u001b[0m\n\u001b[1;32m    129\u001b[0m     \u001b[39melif\u001b[39;00m problem\u001b[39m.\u001b[39mis_dqcp():\n\u001b[1;32m    130\u001b[0m         append \u001b[39m+\u001b[39m\u001b[39m=\u001b[39m (\u001b[39m\"\u001b[39m\u001b[39m\\n\u001b[39;00m\u001b[39mHowever, the problem does follow DQCP rules. \u001b[39m\u001b[39m\"\u001b[39m\n\u001b[1;32m    131\u001b[0m                    \u001b[39m\"\u001b[39m\u001b[39mConsider calling solve() with `qcp=True`.\u001b[39m\u001b[39m\"\u001b[39m)\n\u001b[0;32m--> 132\u001b[0m     \u001b[39mraise\u001b[39;00m DCPError(\n\u001b[1;32m    133\u001b[0m         \u001b[39m\"\u001b[39m\u001b[39mProblem does not follow DCP rules. Specifically:\u001b[39m\u001b[39m\\n\u001b[39;00m\u001b[39m\"\u001b[39m \u001b[39m+\u001b[39m append)\n\u001b[1;32m    134\u001b[0m \u001b[39melif\u001b[39;00m gp \u001b[39mand\u001b[39;00m \u001b[39mnot\u001b[39;00m problem\u001b[39m.\u001b[39mis_dgp():\n\u001b[1;32m    135\u001b[0m     append \u001b[39m=\u001b[39m build_non_disciplined_error_msg(problem, \u001b[39m'\u001b[39m\u001b[39mDGP\u001b[39m\u001b[39m'\u001b[39m)\n",
      "\u001b[0;31mDCPError\u001b[0m: Problem does not follow DCP rules. Specifically:\nThe objective is not DCP. Its following subexpressions are not:\ndiag_vec(reshape(var172[0:5, 0], (5,), F), 0) @ [[1.90 0.69 ... 1.99 2.06]\n [0.69 0.37 ... 0.79 0.69]\n ...\n [1.99 0.79 ... 2.56 2.29]\n [2.06 0.69 ... 2.29 2.41]] @ diag_vec(reshape(var172[0:5, 0], (5,), F), 0)\ndiag_vec(reshape(var172[0:5, 1], (5,), F), 0) @ [[1.90 0.69 ... 1.99 2.06]\n [0.69 0.37 ... 0.79 0.69]\n ...\n [1.99 0.79 ... 2.56 2.29]\n [2.06 0.69 ... 2.29 2.41]] @ diag_vec(reshape(var172[0:5, 1], (5,), F), 0)"
     ]
    }
   ],
   "source": [
    "L = np.random.rand(5,5)\n",
    "L = L@L.T\n",
    "k=2\n",
    "IB_array = np.array([1,2,3,4,5])\n",
    "b1 = 10\n",
    "TB_array = np.array([1,2,3,4,5])\n",
    "b2 = 10\n",
    "solve_Welfare_Maximization(L, k, IB_array, b1, TB_array, b2)"
   ]
  },
  {
   "cell_type": "code",
   "execution_count": null,
   "metadata": {},
   "outputs": [],
   "source": []
  }
 ],
 "metadata": {
  "kernelspec": {
   "display_name": "tf2",
   "language": "python",
   "name": "python3"
  },
  "language_info": {
   "codemirror_mode": {
    "name": "ipython",
    "version": 3
   },
   "file_extension": ".py",
   "mimetype": "text/x-python",
   "name": "python",
   "nbconvert_exporter": "python",
   "pygments_lexer": "ipython3",
   "version": "3.9.18"
  }
 },
 "nbformat": 4,
 "nbformat_minor": 2
}
